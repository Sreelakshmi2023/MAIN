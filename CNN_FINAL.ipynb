{
  "nbformat": 4,
  "nbformat_minor": 0,
  "metadata": {
    "colab": {
      "provenance": [],
      "gpuType": "T4",
      "authorship_tag": "ABX9TyNzG2xkSuMpCX689eYiVzK0",
      "include_colab_link": true
    },
    "kernelspec": {
      "name": "python3",
      "display_name": "Python 3"
    },
    "language_info": {
      "name": "python"
    },
    "accelerator": "GPU"
  },
  "cells": [
    {
      "cell_type": "markdown",
      "metadata": {
        "id": "view-in-github",
        "colab_type": "text"
      },
      "source": [
        "<a href=\"https://colab.research.google.com/github/Sreelakshmi2023/MAIN/blob/main/CNN_FINAL.ipynb\" target=\"_parent\"><img src=\"https://colab.research.google.com/assets/colab-badge.svg\" alt=\"Open In Colab\"/></a>"
      ]
    },
    {
      "cell_type": "markdown",
      "source": [
        "**Import Dependencies**"
      ],
      "metadata": {
        "id": "WuaJsqKKpSlc"
      }
    },
    {
      "cell_type": "code",
      "execution_count": 2,
      "metadata": {
        "id": "QoY04w2rkSRD"
      },
      "outputs": [],
      "source": [
        "\n",
        "# Import necessary libraries\n",
        "import numpy as np\n",
        "import pandas as pd\n",
        "from sklearn.model_selection import train_test_split\n",
        "from sklearn.preprocessing import LabelEncoder\n",
        "from keras.preprocessing.text import Tokenizer\n",
        "from keras.preprocessing.sequence import pad_sequences\n",
        "from keras.models import Sequential\n",
        "from keras.layers import Embedding, Conv1D, GlobalMaxPooling1D, Dense, Dropout\n",
        "from keras.callbacks import EarlyStopping\n"
      ]
    },
    {
      "cell_type": "markdown",
      "source": [
        "**Loading Dataset**"
      ],
      "metadata": {
        "id": "fShUf9WdpXxJ"
      }
    },
    {
      "cell_type": "code",
      "source": [
        "# Load the dataset\n",
        "data = pd.read_csv(\"Benign_malicious.csv\")"
      ],
      "metadata": {
        "id": "7ecJPabOkWDE"
      },
      "execution_count": 3,
      "outputs": []
    },
    {
      "cell_type": "markdown",
      "source": [
        "**Preprocessing the data**"
      ],
      "metadata": {
        "id": "XluDMZ0KpbXH"
      }
    },
    {
      "cell_type": "code",
      "source": [
        "# Determine the maximum length of the URLs\n",
        "max_len = max(len(url) for url in data['url'])\n",
        "\n",
        "# Preprocessing the data\n",
        "tokenizer = Tokenizer()\n",
        "tokenizer.fit_on_texts(data['url'])\n",
        "X = tokenizer.texts_to_sequences(data['url'])\n",
        "X = pad_sequences(X, maxlen=max_len)"
      ],
      "metadata": {
        "id": "AzjmxtS4nRwW"
      },
      "execution_count": 6,
      "outputs": []
    },
    {
      "cell_type": "markdown",
      "source": [
        "**Encoding the labels**"
      ],
      "metadata": {
        "id": "QusPQ7C0phI5"
      }
    },
    {
      "cell_type": "code",
      "source": [
        "# Encoding the labels\n",
        "label_encoder = LabelEncoder()\n",
        "y = label_encoder.fit_transform(data['type'])"
      ],
      "metadata": {
        "id": "NJt1VNDunVxX"
      },
      "execution_count": 7,
      "outputs": []
    },
    {
      "cell_type": "markdown",
      "source": [
        "**Spliting the test and training sets**"
      ],
      "metadata": {
        "id": "jJ6TK9ZgpkFu"
      }
    },
    {
      "cell_type": "code",
      "source": [
        "# Splitting the data into training and testing sets\n",
        "X_train, X_test, y_train, y_test = train_test_split(X, y, test_size=0.2, random_state=42)\n"
      ],
      "metadata": {
        "id": "x0rIigninrOp"
      },
      "execution_count": 8,
      "outputs": []
    },
    {
      "cell_type": "markdown",
      "source": [
        "**Define CNN Model**"
      ],
      "metadata": {
        "id": "jR1sNJnHpqfA"
      }
    },
    {
      "cell_type": "code",
      "source": [
        "# Define vocabulary size\n",
        "vocab_size = len(tokenizer.word_index) + 1\n",
        "# Define embedding dimension\n",
        "embedding_dim = 100\n",
        "\n",
        "# Define the CNN model\n",
        "model = Sequential()\n",
        "model.add(Embedding(input_dim=vocab_size, output_dim=embedding_dim, input_length=max_len))\n",
        "model.add(Conv1D(filters=128, kernel_size=5, activation='relu'))\n",
        "model.add(GlobalMaxPooling1D())\n",
        "model.add(Dense(64, activation='relu'))\n",
        "model.add(Dropout(0.5))\n",
        "model.add(Dense(1, activation='sigmoid'))"
      ],
      "metadata": {
        "id": "ORIWbJe8nubq"
      },
      "execution_count": 11,
      "outputs": []
    },
    {
      "cell_type": "markdown",
      "source": [
        "**Compile the model**"
      ],
      "metadata": {
        "id": "5KD_LNUVp07R"
      }
    },
    {
      "cell_type": "code",
      "source": [
        "# Compile the model\n",
        "model.compile(optimizer='adam', loss='binary_crossentropy', metrics=['accuracy'])\n"
      ],
      "metadata": {
        "id": "6kyMd1zznyUK"
      },
      "execution_count": 12,
      "outputs": []
    },
    {
      "cell_type": "markdown",
      "source": [
        "**Define early stopping callback**"
      ],
      "metadata": {
        "id": "lAqC6MAJpuR1"
      }
    },
    {
      "cell_type": "code",
      "source": [
        "# Define early stopping callback\n",
        "early_stopping = EarlyStopping(monitor='val_loss', patience=3)"
      ],
      "metadata": {
        "id": "VEZhxzCVoIjQ"
      },
      "execution_count": 13,
      "outputs": []
    },
    {
      "cell_type": "markdown",
      "source": [
        "**Training the model**"
      ],
      "metadata": {
        "id": "BcPbRxMIp5mR"
      }
    },
    {
      "cell_type": "code",
      "source": [
        "# Train the model\n",
        "model.fit(X_train, y_train, batch_size=128, epochs=20, validation_split=0.2, callbacks=[early_stopping])\n"
      ],
      "metadata": {
        "colab": {
          "base_uri": "https://localhost:8080/"
        },
        "id": "NJciSo32oMAk",
        "outputId": "90c5ac8f-5770-47b1-b4b1-4246db406a08"
      },
      "execution_count": 14,
      "outputs": [
        {
          "output_type": "stream",
          "name": "stdout",
          "text": [
            "Epoch 1/20\n",
            "151/151 [==============================] - 26s 136ms/step - loss: 0.2438 - accuracy: 0.8957 - val_loss: 0.0814 - val_accuracy: 0.9663\n",
            "Epoch 2/20\n",
            "151/151 [==============================] - 11s 69ms/step - loss: 0.0434 - accuracy: 0.9846 - val_loss: 0.0767 - val_accuracy: 0.9623\n",
            "Epoch 3/20\n",
            "151/151 [==============================] - 7s 50ms/step - loss: 0.0032 - accuracy: 0.9995 - val_loss: 0.0878 - val_accuracy: 0.9603\n",
            "Epoch 4/20\n",
            "151/151 [==============================] - 5s 35ms/step - loss: 6.4173e-04 - accuracy: 1.0000 - val_loss: 0.0867 - val_accuracy: 0.9634\n",
            "Epoch 5/20\n",
            "151/151 [==============================] - 4s 29ms/step - loss: 5.5467e-04 - accuracy: 0.9999 - val_loss: 0.0902 - val_accuracy: 0.9627\n"
          ]
        },
        {
          "output_type": "execute_result",
          "data": {
            "text/plain": [
              "<keras.src.callbacks.History at 0x7eb085d08ee0>"
            ]
          },
          "metadata": {},
          "execution_count": 14
        }
      ]
    },
    {
      "cell_type": "markdown",
      "source": [
        "**Evaluate the model**"
      ],
      "metadata": {
        "id": "383aQ2jTp8jA"
      }
    },
    {
      "cell_type": "code",
      "source": [
        "# Evaluate the model\n",
        "loss, accuracy = model.evaluate(X_test, y_test)\n",
        "print(\"Test Accuracy:\", accuracy)\n"
      ],
      "metadata": {
        "colab": {
          "base_uri": "https://localhost:8080/"
        },
        "id": "EM0PaJfpoPJs",
        "outputId": "2a605e8b-6ef0-427d-db76-09f6b50dd125"
      },
      "execution_count": 15,
      "outputs": [
        {
          "output_type": "stream",
          "name": "stdout",
          "text": [
            "189/189 [==============================] - 1s 4ms/step - loss: 0.0788 - accuracy: 0.9669\n",
            "Test Accuracy: 0.9668819308280945\n"
          ]
        }
      ]
    },
    {
      "cell_type": "markdown",
      "source": [
        "**Function to predict the type of URL**"
      ],
      "metadata": {
        "id": "wGcTHeekp_VO"
      }
    },
    {
      "cell_type": "code",
      "source": [
        "# Function to predict the type of URL\n",
        "def predict_url_type(url):\n",
        "    # Tokenize and pad the input URL\n",
        "    encoded_url = tokenizer.texts_to_sequences([url])\n",
        "    padded_url = pad_sequences(encoded_url, maxlen=max_len)\n",
        "    # Make predictions\n",
        "    prediction = model.predict(padded_url)\n",
        "    # Decode the prediction\n",
        "    if prediction[0] > 0.5:\n",
        "        return \"Malicious\"\n",
        "    else:\n",
        "        return \"Benign\""
      ],
      "metadata": {
        "id": "AQhCs8tHoj6a"
      },
      "execution_count": 16,
      "outputs": []
    },
    {
      "cell_type": "markdown",
      "source": [
        "**Test the model with user input**"
      ],
      "metadata": {
        "id": "BWkQ-IpsqGXp"
      }
    },
    {
      "cell_type": "code",
      "source": [
        "# Test the model with user input\n",
        "user_input = input(\"Enter a URL: \")\n",
        "prediction = predict_url_type(user_input)\n",
        "print(\"Predicted URL Type:\", prediction)"
      ],
      "metadata": {
        "colab": {
          "base_uri": "https://localhost:8080/"
        },
        "id": "pfSgqaybo4xR",
        "outputId": "73f1ed01-a166-446a-c6f2-8584fd705052"
      },
      "execution_count": 18,
      "outputs": [
        {
          "output_type": "stream",
          "name": "stdout",
          "text": [
            "Enter a URL: http://www.pashminaonline.com/pure-pashminas\n",
            "1/1 [==============================] - 0s 19ms/step\n",
            "Predicted URL Type: Malicious\n"
          ]
        }
      ]
    },
    {
      "cell_type": "code",
      "source": [],
      "metadata": {
        "id": "tXIo0pEio743"
      },
      "execution_count": null,
      "outputs": []
    }
  ]
}